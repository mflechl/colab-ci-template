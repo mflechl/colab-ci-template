{
  "nbformat": 4,
  "nbformat_minor": 0,
  "metadata": {
    "colab": {
      "provenance": [],
      "gpuType": "T4",
      "authorship_tag": "ABX9TyNzaQ53RQ8WF/HfkX9sfZRw",
      "include_colab_link": true
    },
    "kernelspec": {
      "name": "python3",
      "display_name": "Python 3"
    },
    "language_info": {
      "name": "python"
    },
    "accelerator": "GPU"
  },
  "cells": [
    {
      "cell_type": "markdown",
      "metadata": {
        "id": "view-in-github",
        "colab_type": "text"
      },
      "source": [
        "<a href=\"https://colab.research.google.com/github/mflechl/colab-ci-template/blob/main/example.ipynb\" target=\"_parent\"><img src=\"https://colab.research.google.com/assets/colab-badge.svg\" alt=\"Open In Colab\"/></a>"
      ]
    },
    {
      "cell_type": "code",
      "source": [
        "import torch"
      ],
      "metadata": {
        "id": "z5EA_1Sg5Ugm"
      },
      "execution_count": 1,
      "outputs": []
    },
    {
      "cell_type": "code",
      "source": [
        "x = [ [1,3], [2,7] ]\n",
        "y = [ [5,5], [5,5] ]\n",
        "x + y"
      ],
      "metadata": {
        "id": "LG-lQaSi5bLk",
        "outputId": "656f8376-7460-46de-a31e-ba5dcea4aa6e",
        "colab": {
          "base_uri": "https://localhost:8080/"
        }
      },
      "execution_count": 2,
      "outputs": [
        {
          "output_type": "execute_result",
          "data": {
            "text/plain": [
              "[[1, 3], [2, 7], [5, 5], [5, 5]]"
            ]
          },
          "metadata": {},
          "execution_count": 2
        }
      ]
    },
    {
      "cell_type": "code",
      "source": [
        "tx = torch.tensor( x )\n",
        "ty = torch.tensor( y )\n",
        "tx + ty"
      ],
      "metadata": {
        "colab": {
          "base_uri": "https://localhost:8080/"
        },
        "id": "QxkvK-7b5loE",
        "outputId": "19fef0b6-c5b6-4f9f-f20c-54b469f3e50c"
      },
      "execution_count": 3,
      "outputs": [
        {
          "output_type": "execute_result",
          "data": {
            "text/plain": [
              "tensor([[ 6,  8],\n",
              "        [ 7, 12]])"
            ]
          },
          "metadata": {},
          "execution_count": 3
        }
      ]
    },
    {
      "cell_type": "code",
      "source": [
        "20 * tx / ty"
      ],
      "metadata": {
        "id": "l9395Ngg5o_0",
        "outputId": "eca4f44e-0cea-4c8a-bb08-0cec03b02d43",
        "colab": {
          "base_uri": "https://localhost:8080/"
        }
      },
      "execution_count": 4,
      "outputs": [
        {
          "output_type": "execute_result",
          "data": {
            "text/plain": [
              "tensor([[ 4., 12.],\n",
              "        [ 8., 28.]])"
            ]
          },
          "metadata": {},
          "execution_count": 4
        }
      ]
    }
  ]
}